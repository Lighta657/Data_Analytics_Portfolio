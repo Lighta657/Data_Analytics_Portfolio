{
 "cells": [
  {
   "cell_type": "code",
   "execution_count": 9,
   "metadata": {},
   "outputs": [],
   "source": [
    "import pandas as pd\n",
    "import numpy as np\n",
    "import seaborn as sns\n",
    "import plotly.express as px\n",
    "import plotly.graph_objects as go\n",
    "import matplotlib.pyplot as plt\n",
    "import matplotlib.patches as mpatches\n",
    "import matplotlib.dates as mdates\n",
    "from matplotlib.dates import DateFormatter\n",
    "import matplotlib.ticker as mtick\n",
    "import json\n",
    "import os\n",
    "import csv\n",
    "\n",
    "# Handle date time conversions between pandas and matplotlib\n",
    "from pandas.plotting import register_matplotlib_converters\n",
    "register_matplotlib_converters()\n",
    "\n",
    "%matplotlib inline"
   ]
  },
  {
   "cell_type": "code",
   "execution_count": 2,
   "metadata": {},
   "outputs": [],
   "source": [
    "rawtweets=pd.read_csv('tweets.csv',header=None,encoding='ISO-8859-1')"
   ]
  },
  {
   "cell_type": "code",
   "execution_count": 25,
   "metadata": {},
   "outputs": [],
   "source": [
    "rawtweets1=rawtweets.iloc[1200001:1600000,:]"
   ]
  },
  {
   "cell_type": "code",
   "execution_count": 26,
   "metadata": {},
   "outputs": [
    {
     "data": {
      "text/html": [
       "<div>\n",
       "<style scoped>\n",
       "    .dataframe tbody tr th:only-of-type {\n",
       "        vertical-align: middle;\n",
       "    }\n",
       "\n",
       "    .dataframe tbody tr th {\n",
       "        vertical-align: top;\n",
       "    }\n",
       "\n",
       "    .dataframe thead th {\n",
       "        text-align: right;\n",
       "    }\n",
       "</style>\n",
       "<table border=\"1\" class=\"dataframe\">\n",
       "  <thead>\n",
       "    <tr style=\"text-align: right;\">\n",
       "      <th></th>\n",
       "      <th>0</th>\n",
       "      <th>1</th>\n",
       "      <th>2</th>\n",
       "      <th>3</th>\n",
       "      <th>4</th>\n",
       "      <th>5</th>\n",
       "    </tr>\n",
       "  </thead>\n",
       "  <tbody>\n",
       "    <tr>\n",
       "      <th>1200001</th>\n",
       "      <td>4</td>\n",
       "      <td>1985419430</td>\n",
       "      <td>Sun May 31 17:04:02 PDT 2009</td>\n",
       "      <td>NO_QUERY</td>\n",
       "      <td>themoderngal</td>\n",
       "      <td>@roxyreeb You need a new hobby. Wanna train fo...</td>\n",
       "    </tr>\n",
       "    <tr>\n",
       "      <th>1200002</th>\n",
       "      <td>4</td>\n",
       "      <td>1985419460</td>\n",
       "      <td>Sun May 31 17:04:02 PDT 2009</td>\n",
       "      <td>NO_QUERY</td>\n",
       "      <td>rachfran</td>\n",
       "      <td>loooves my friends, and as of today loves the ...</td>\n",
       "    </tr>\n",
       "    <tr>\n",
       "      <th>1200003</th>\n",
       "      <td>4</td>\n",
       "      <td>1985419474</td>\n",
       "      <td>Sun May 31 17:04:02 PDT 2009</td>\n",
       "      <td>NO_QUERY</td>\n",
       "      <td>giiirly</td>\n",
       "      <td>the hills  last one D:</td>\n",
       "    </tr>\n",
       "    <tr>\n",
       "      <th>1200004</th>\n",
       "      <td>4</td>\n",
       "      <td>1985419514</td>\n",
       "      <td>Sun May 31 17:04:02 PDT 2009</td>\n",
       "      <td>NO_QUERY</td>\n",
       "      <td>ilovepushplaay</td>\n",
       "      <td>teamviewer is entertaining</td>\n",
       "    </tr>\n",
       "    <tr>\n",
       "      <th>1200005</th>\n",
       "      <td>4</td>\n",
       "      <td>1985419535</td>\n",
       "      <td>Sun May 31 17:04:03 PDT 2009</td>\n",
       "      <td>NO_QUERY</td>\n",
       "      <td>folieameghan</td>\n",
       "      <td>i intensely miss my bestfriends! much love!!  ...</td>\n",
       "    </tr>\n",
       "  </tbody>\n",
       "</table>\n",
       "</div>"
      ],
      "text/plain": [
       "         0           1                             2         3  \\\n",
       "1200001  4  1985419430  Sun May 31 17:04:02 PDT 2009  NO_QUERY   \n",
       "1200002  4  1985419460  Sun May 31 17:04:02 PDT 2009  NO_QUERY   \n",
       "1200003  4  1985419474  Sun May 31 17:04:02 PDT 2009  NO_QUERY   \n",
       "1200004  4  1985419514  Sun May 31 17:04:02 PDT 2009  NO_QUERY   \n",
       "1200005  4  1985419535  Sun May 31 17:04:03 PDT 2009  NO_QUERY   \n",
       "\n",
       "                      4                                                  5  \n",
       "1200001    themoderngal  @roxyreeb You need a new hobby. Wanna train fo...  \n",
       "1200002        rachfran  loooves my friends, and as of today loves the ...  \n",
       "1200003         giiirly                             the hills  last one D:  \n",
       "1200004  ilovepushplaay                        teamviewer is entertaining   \n",
       "1200005    folieameghan  i intensely miss my bestfriends! much love!!  ...  "
      ]
     },
     "execution_count": 26,
     "metadata": {},
     "output_type": "execute_result"
    }
   ],
   "source": [
    "rawtweets1.head()"
   ]
  },
  {
   "cell_type": "code",
   "execution_count": 27,
   "metadata": {},
   "outputs": [],
   "source": [
    "rawtweets1.to_csv('C:\\\\Users\\\\Lighta\\\\Desktop\\\\Data_Analytics\\\\Course5\\\\Task4\\\\rawtweets4.csv',header=False, index=False, mode=\"w\")"
   ]
  },
  {
   "cell_type": "markdown",
   "metadata": {},
   "source": [
    "#To save .json file\n",
    "with open('C:\\\\Users\\\\Lighta\\\\Desktop\\\\Data_Analytics\\\\Course5\\\\Task4\\\\rawtweets1.json',\"w\") as f:\n",
    "    json.dump(rawtweets1,f)"
   ]
  },
  {
   "cell_type": "markdown",
   "metadata": {},
   "source": [
    "EDA"
   ]
  },
  {
   "cell_type": "code",
   "execution_count": 10,
   "metadata": {
    "scrolled": true
   },
   "outputs": [
    {
     "data": {
      "text/html": [
       "<div>\n",
       "<style scoped>\n",
       "    .dataframe tbody tr th:only-of-type {\n",
       "        vertical-align: middle;\n",
       "    }\n",
       "\n",
       "    .dataframe tbody tr th {\n",
       "        vertical-align: top;\n",
       "    }\n",
       "\n",
       "    .dataframe thead th {\n",
       "        text-align: right;\n",
       "    }\n",
       "</style>\n",
       "<table border=\"1\" class=\"dataframe\">\n",
       "  <thead>\n",
       "    <tr style=\"text-align: right;\">\n",
       "      <th></th>\n",
       "      <th>0</th>\n",
       "      <th>1</th>\n",
       "      <th>2</th>\n",
       "      <th>3</th>\n",
       "      <th>4</th>\n",
       "      <th>5</th>\n",
       "    </tr>\n",
       "  </thead>\n",
       "  <tbody>\n",
       "    <tr>\n",
       "      <th>0</th>\n",
       "      <td>0</td>\n",
       "      <td>1467810369</td>\n",
       "      <td>Mon Apr 06 22:19:45 PDT 2009</td>\n",
       "      <td>NO_QUERY</td>\n",
       "      <td>_TheSpecialOne_</td>\n",
       "      <td>@switchfoot http://twitpic.com/2y1zl - Awww, t...</td>\n",
       "    </tr>\n",
       "    <tr>\n",
       "      <th>1</th>\n",
       "      <td>0</td>\n",
       "      <td>1467810672</td>\n",
       "      <td>Mon Apr 06 22:19:49 PDT 2009</td>\n",
       "      <td>NO_QUERY</td>\n",
       "      <td>scotthamilton</td>\n",
       "      <td>is upset that he can't update his Facebook by ...</td>\n",
       "    </tr>\n",
       "    <tr>\n",
       "      <th>2</th>\n",
       "      <td>0</td>\n",
       "      <td>1467810917</td>\n",
       "      <td>Mon Apr 06 22:19:53 PDT 2009</td>\n",
       "      <td>NO_QUERY</td>\n",
       "      <td>mattycus</td>\n",
       "      <td>@Kenichan I dived many times for the ball. Man...</td>\n",
       "    </tr>\n",
       "    <tr>\n",
       "      <th>3</th>\n",
       "      <td>0</td>\n",
       "      <td>1467811184</td>\n",
       "      <td>Mon Apr 06 22:19:57 PDT 2009</td>\n",
       "      <td>NO_QUERY</td>\n",
       "      <td>ElleCTF</td>\n",
       "      <td>my whole body feels itchy and like its on fire</td>\n",
       "    </tr>\n",
       "    <tr>\n",
       "      <th>4</th>\n",
       "      <td>0</td>\n",
       "      <td>1467811193</td>\n",
       "      <td>Mon Apr 06 22:19:57 PDT 2009</td>\n",
       "      <td>NO_QUERY</td>\n",
       "      <td>Karoli</td>\n",
       "      <td>@nationwideclass no, it's not behaving at all....</td>\n",
       "    </tr>\n",
       "    <tr>\n",
       "      <th>5</th>\n",
       "      <td>0</td>\n",
       "      <td>1467811372</td>\n",
       "      <td>Mon Apr 06 22:20:00 PDT 2009</td>\n",
       "      <td>NO_QUERY</td>\n",
       "      <td>joy_wolf</td>\n",
       "      <td>@Kwesidei not the whole crew</td>\n",
       "    </tr>\n",
       "    <tr>\n",
       "      <th>6</th>\n",
       "      <td>0</td>\n",
       "      <td>1467811592</td>\n",
       "      <td>Mon Apr 06 22:20:03 PDT 2009</td>\n",
       "      <td>NO_QUERY</td>\n",
       "      <td>mybirch</td>\n",
       "      <td>Need a hug</td>\n",
       "    </tr>\n",
       "    <tr>\n",
       "      <th>7</th>\n",
       "      <td>0</td>\n",
       "      <td>1467811594</td>\n",
       "      <td>Mon Apr 06 22:20:03 PDT 2009</td>\n",
       "      <td>NO_QUERY</td>\n",
       "      <td>coZZ</td>\n",
       "      <td>@LOLTrish hey  long time no see! Yes.. Rains a...</td>\n",
       "    </tr>\n",
       "    <tr>\n",
       "      <th>8</th>\n",
       "      <td>0</td>\n",
       "      <td>1467811795</td>\n",
       "      <td>Mon Apr 06 22:20:05 PDT 2009</td>\n",
       "      <td>NO_QUERY</td>\n",
       "      <td>2Hood4Hollywood</td>\n",
       "      <td>@Tatiana_K nope they didn't have it</td>\n",
       "    </tr>\n",
       "    <tr>\n",
       "      <th>9</th>\n",
       "      <td>0</td>\n",
       "      <td>1467812025</td>\n",
       "      <td>Mon Apr 06 22:20:09 PDT 2009</td>\n",
       "      <td>NO_QUERY</td>\n",
       "      <td>mimismo</td>\n",
       "      <td>@twittera que me muera ?</td>\n",
       "    </tr>\n",
       "  </tbody>\n",
       "</table>\n",
       "</div>"
      ],
      "text/plain": [
       "   0           1                             2         3                4  \\\n",
       "0  0  1467810369  Mon Apr 06 22:19:45 PDT 2009  NO_QUERY  _TheSpecialOne_   \n",
       "1  0  1467810672  Mon Apr 06 22:19:49 PDT 2009  NO_QUERY    scotthamilton   \n",
       "2  0  1467810917  Mon Apr 06 22:19:53 PDT 2009  NO_QUERY         mattycus   \n",
       "3  0  1467811184  Mon Apr 06 22:19:57 PDT 2009  NO_QUERY          ElleCTF   \n",
       "4  0  1467811193  Mon Apr 06 22:19:57 PDT 2009  NO_QUERY           Karoli   \n",
       "5  0  1467811372  Mon Apr 06 22:20:00 PDT 2009  NO_QUERY         joy_wolf   \n",
       "6  0  1467811592  Mon Apr 06 22:20:03 PDT 2009  NO_QUERY          mybirch   \n",
       "7  0  1467811594  Mon Apr 06 22:20:03 PDT 2009  NO_QUERY             coZZ   \n",
       "8  0  1467811795  Mon Apr 06 22:20:05 PDT 2009  NO_QUERY  2Hood4Hollywood   \n",
       "9  0  1467812025  Mon Apr 06 22:20:09 PDT 2009  NO_QUERY          mimismo   \n",
       "\n",
       "                                                   5  \n",
       "0  @switchfoot http://twitpic.com/2y1zl - Awww, t...  \n",
       "1  is upset that he can't update his Facebook by ...  \n",
       "2  @Kenichan I dived many times for the ball. Man...  \n",
       "3    my whole body feels itchy and like its on fire   \n",
       "4  @nationwideclass no, it's not behaving at all....  \n",
       "5                      @Kwesidei not the whole crew   \n",
       "6                                        Need a hug   \n",
       "7  @LOLTrish hey  long time no see! Yes.. Rains a...  \n",
       "8               @Tatiana_K nope they didn't have it   \n",
       "9                          @twittera que me muera ?   "
      ]
     },
     "execution_count": 10,
     "metadata": {},
     "output_type": "execute_result"
    }
   ],
   "source": [
    "rawtweets.head(10)"
   ]
  },
  {
   "cell_type": "code",
   "execution_count": 9,
   "metadata": {
    "scrolled": false
   },
   "outputs": [
    {
     "name": "stdout",
     "output_type": "stream",
     "text": [
      "<class 'pandas.core.frame.DataFrame'>\n",
      "RangeIndex: 1600000 entries, 0 to 1599999\n",
      "Data columns (total 6 columns):\n",
      " #   Column  Non-Null Count    Dtype \n",
      "---  ------  --------------    ----- \n",
      " 0   0       1600000 non-null  int64 \n",
      " 1   1       1600000 non-null  int64 \n",
      " 2   2       1600000 non-null  object\n",
      " 3   3       1600000 non-null  object\n",
      " 4   4       1600000 non-null  object\n",
      " 5   5       1600000 non-null  object\n",
      "dtypes: int64(2), object(4)\n",
      "memory usage: 73.2+ MB\n"
     ]
    }
   ],
   "source": [
    "rawtweets.info()"
   ]
  },
  {
   "cell_type": "code",
   "execution_count": 5,
   "metadata": {},
   "outputs": [],
   "source": [
    "tweets=rawtweets.copy()"
   ]
  },
  {
   "cell_type": "code",
   "execution_count": 6,
   "metadata": {
    "scrolled": true
   },
   "outputs": [
    {
     "data": {
      "text/html": [
       "<div>\n",
       "<style scoped>\n",
       "    .dataframe tbody tr th:only-of-type {\n",
       "        vertical-align: middle;\n",
       "    }\n",
       "\n",
       "    .dataframe tbody tr th {\n",
       "        vertical-align: top;\n",
       "    }\n",
       "\n",
       "    .dataframe thead th {\n",
       "        text-align: right;\n",
       "    }\n",
       "</style>\n",
       "<table border=\"1\" class=\"dataframe\">\n",
       "  <thead>\n",
       "    <tr style=\"text-align: right;\">\n",
       "      <th></th>\n",
       "      <th>Label</th>\n",
       "      <th>ID</th>\n",
       "      <th>Date</th>\n",
       "      <th>Query</th>\n",
       "      <th>User</th>\n",
       "      <th>Text</th>\n",
       "    </tr>\n",
       "  </thead>\n",
       "  <tbody>\n",
       "    <tr>\n",
       "      <th>0</th>\n",
       "      <td>0</td>\n",
       "      <td>1467810369</td>\n",
       "      <td>Mon Apr 06 22:19:45 PDT 2009</td>\n",
       "      <td>NO_QUERY</td>\n",
       "      <td>_TheSpecialOne_</td>\n",
       "      <td>@switchfoot http://twitpic.com/2y1zl - Awww, t...</td>\n",
       "    </tr>\n",
       "    <tr>\n",
       "      <th>1</th>\n",
       "      <td>0</td>\n",
       "      <td>1467810672</td>\n",
       "      <td>Mon Apr 06 22:19:49 PDT 2009</td>\n",
       "      <td>NO_QUERY</td>\n",
       "      <td>scotthamilton</td>\n",
       "      <td>is upset that he can't update his Facebook by ...</td>\n",
       "    </tr>\n",
       "    <tr>\n",
       "      <th>2</th>\n",
       "      <td>0</td>\n",
       "      <td>1467810917</td>\n",
       "      <td>Mon Apr 06 22:19:53 PDT 2009</td>\n",
       "      <td>NO_QUERY</td>\n",
       "      <td>mattycus</td>\n",
       "      <td>@Kenichan I dived many times for the ball. Man...</td>\n",
       "    </tr>\n",
       "    <tr>\n",
       "      <th>3</th>\n",
       "      <td>0</td>\n",
       "      <td>1467811184</td>\n",
       "      <td>Mon Apr 06 22:19:57 PDT 2009</td>\n",
       "      <td>NO_QUERY</td>\n",
       "      <td>ElleCTF</td>\n",
       "      <td>my whole body feels itchy and like its on fire</td>\n",
       "    </tr>\n",
       "    <tr>\n",
       "      <th>4</th>\n",
       "      <td>0</td>\n",
       "      <td>1467811193</td>\n",
       "      <td>Mon Apr 06 22:19:57 PDT 2009</td>\n",
       "      <td>NO_QUERY</td>\n",
       "      <td>Karoli</td>\n",
       "      <td>@nationwideclass no, it's not behaving at all....</td>\n",
       "    </tr>\n",
       "  </tbody>\n",
       "</table>\n",
       "</div>"
      ],
      "text/plain": [
       "   Label          ID                          Date     Query             User  \\\n",
       "0      0  1467810369  Mon Apr 06 22:19:45 PDT 2009  NO_QUERY  _TheSpecialOne_   \n",
       "1      0  1467810672  Mon Apr 06 22:19:49 PDT 2009  NO_QUERY    scotthamilton   \n",
       "2      0  1467810917  Mon Apr 06 22:19:53 PDT 2009  NO_QUERY         mattycus   \n",
       "3      0  1467811184  Mon Apr 06 22:19:57 PDT 2009  NO_QUERY          ElleCTF   \n",
       "4      0  1467811193  Mon Apr 06 22:19:57 PDT 2009  NO_QUERY           Karoli   \n",
       "\n",
       "                                                Text  \n",
       "0  @switchfoot http://twitpic.com/2y1zl - Awww, t...  \n",
       "1  is upset that he can't update his Facebook by ...  \n",
       "2  @Kenichan I dived many times for the ball. Man...  \n",
       "3    my whole body feels itchy and like its on fire   \n",
       "4  @nationwideclass no, it's not behaving at all....  "
      ]
     },
     "execution_count": 6,
     "metadata": {},
     "output_type": "execute_result"
    }
   ],
   "source": [
    "#Rename columns\n",
    "old_col=[0,1,2,3,4,5]\n",
    "new_col=['Label','ID','Date','Query','User','Text']\n",
    "tweets[new_col]=tweets[old_col]\n",
    "tweets=tweets.drop(old_col,axis=1)\n",
    "tweets.head()"
   ]
  },
  {
   "cell_type": "code",
   "execution_count": 7,
   "metadata": {
    "scrolled": true
   },
   "outputs": [
    {
     "name": "stderr",
     "output_type": "stream",
     "text": [
      "C:\\Users\\Lighta\\Anaconda3\\envs\\Explorer\\lib\\site-packages\\dateutil\\parser\\_parser.py:1213: UnknownTimezoneWarning: tzname PDT identified but not understood.  Pass `tzinfos` argument in order to correctly return a timezone-aware datetime.  In a future version, this will raise an exception.\n",
      "  warnings.warn(\"tzname {tzname} identified but not understood.  \"\n"
     ]
    }
   ],
   "source": [
    "#Format Date\n",
    "tweets['Date']=pd.to_datetime(tweets['Date'])"
   ]
  },
  {
   "cell_type": "code",
   "execution_count": 8,
   "metadata": {
    "scrolled": true
   },
   "outputs": [
    {
     "data": {
      "text/plain": [
       "0         2009-04-06 22:19:45-07:00\n",
       "1         2009-04-06 22:19:49-07:00\n",
       "2         2009-04-06 22:19:53-07:00\n",
       "3         2009-04-06 22:19:57-07:00\n",
       "4         2009-04-06 22:19:57-07:00\n",
       "                     ...           \n",
       "1599995   2009-06-16 08:40:49-07:00\n",
       "1599996   2009-06-16 08:40:49-07:00\n",
       "1599997   2009-06-16 08:40:49-07:00\n",
       "1599998   2009-06-16 08:40:49-07:00\n",
       "1599999   2009-06-16 08:40:50-07:00\n",
       "Name: Date, Length: 1600000, dtype: datetime64[ns, America/Los_Angeles]"
      ]
     },
     "execution_count": 8,
     "metadata": {},
     "output_type": "execute_result"
    }
   ],
   "source": [
    "tweets['Date'].dt.tz_localize('America/Los_Angeles')"
   ]
  },
  {
   "cell_type": "code",
   "execution_count": 9,
   "metadata": {},
   "outputs": [],
   "source": [
    "tweets=tweets.assign(Count=1)"
   ]
  },
  {
   "cell_type": "code",
   "execution_count": 24,
   "metadata": {
    "scrolled": true
   },
   "outputs": [
    {
     "data": {
      "text/html": [
       "<div>\n",
       "<style scoped>\n",
       "    .dataframe tbody tr th:only-of-type {\n",
       "        vertical-align: middle;\n",
       "    }\n",
       "\n",
       "    .dataframe tbody tr th {\n",
       "        vertical-align: top;\n",
       "    }\n",
       "\n",
       "    .dataframe thead th {\n",
       "        text-align: right;\n",
       "    }\n",
       "</style>\n",
       "<table border=\"1\" class=\"dataframe\">\n",
       "  <thead>\n",
       "    <tr style=\"text-align: right;\">\n",
       "      <th></th>\n",
       "      <th>Label</th>\n",
       "      <th>ID</th>\n",
       "      <th>Date</th>\n",
       "      <th>Query</th>\n",
       "      <th>User</th>\n",
       "      <th>Text</th>\n",
       "      <th>Count</th>\n",
       "    </tr>\n",
       "  </thead>\n",
       "  <tbody>\n",
       "    <tr>\n",
       "      <th>1599995</th>\n",
       "      <td>4</td>\n",
       "      <td>2193601966</td>\n",
       "      <td>2009-06-16 08:40:49</td>\n",
       "      <td>NO_QUERY</td>\n",
       "      <td>AmandaMarie1028</td>\n",
       "      <td>Just woke up. Having no school is the best fee...</td>\n",
       "      <td>1</td>\n",
       "    </tr>\n",
       "    <tr>\n",
       "      <th>1599996</th>\n",
       "      <td>4</td>\n",
       "      <td>2193601969</td>\n",
       "      <td>2009-06-16 08:40:49</td>\n",
       "      <td>NO_QUERY</td>\n",
       "      <td>TheWDBoards</td>\n",
       "      <td>TheWDB.com - Very cool to hear old Walt interv...</td>\n",
       "      <td>1</td>\n",
       "    </tr>\n",
       "    <tr>\n",
       "      <th>1599997</th>\n",
       "      <td>4</td>\n",
       "      <td>2193601991</td>\n",
       "      <td>2009-06-16 08:40:49</td>\n",
       "      <td>NO_QUERY</td>\n",
       "      <td>bpbabe</td>\n",
       "      <td>Are you ready for your MoJo Makeover? Ask me f...</td>\n",
       "      <td>1</td>\n",
       "    </tr>\n",
       "    <tr>\n",
       "      <th>1599998</th>\n",
       "      <td>4</td>\n",
       "      <td>2193602064</td>\n",
       "      <td>2009-06-16 08:40:49</td>\n",
       "      <td>NO_QUERY</td>\n",
       "      <td>tinydiamondz</td>\n",
       "      <td>Happy 38th Birthday to my boo of alll time!!! ...</td>\n",
       "      <td>1</td>\n",
       "    </tr>\n",
       "    <tr>\n",
       "      <th>1599999</th>\n",
       "      <td>4</td>\n",
       "      <td>2193602129</td>\n",
       "      <td>2009-06-16 08:40:50</td>\n",
       "      <td>NO_QUERY</td>\n",
       "      <td>RyanTrevMorris</td>\n",
       "      <td>happy #charitytuesday @theNSPCC @SparksCharity...</td>\n",
       "      <td>1</td>\n",
       "    </tr>\n",
       "  </tbody>\n",
       "</table>\n",
       "</div>"
      ],
      "text/plain": [
       "         Label          ID                Date     Query             User  \\\n",
       "1599995      4  2193601966 2009-06-16 08:40:49  NO_QUERY  AmandaMarie1028   \n",
       "1599996      4  2193601969 2009-06-16 08:40:49  NO_QUERY      TheWDBoards   \n",
       "1599997      4  2193601991 2009-06-16 08:40:49  NO_QUERY           bpbabe   \n",
       "1599998      4  2193602064 2009-06-16 08:40:49  NO_QUERY     tinydiamondz   \n",
       "1599999      4  2193602129 2009-06-16 08:40:50  NO_QUERY   RyanTrevMorris   \n",
       "\n",
       "                                                      Text  Count  \n",
       "1599995  Just woke up. Having no school is the best fee...      1  \n",
       "1599996  TheWDB.com - Very cool to hear old Walt interv...      1  \n",
       "1599997  Are you ready for your MoJo Makeover? Ask me f...      1  \n",
       "1599998  Happy 38th Birthday to my boo of alll time!!! ...      1  \n",
       "1599999  happy #charitytuesday @theNSPCC @SparksCharity...      1  "
      ]
     },
     "execution_count": 24,
     "metadata": {},
     "output_type": "execute_result"
    }
   ],
   "source": [
    "tweets.tail()"
   ]
  },
  {
   "cell_type": "code",
   "execution_count": 11,
   "metadata": {},
   "outputs": [
    {
     "name": "stdout",
     "output_type": "stream",
     "text": [
      "<class 'pandas.core.frame.DataFrame'>\n",
      "RangeIndex: 1600000 entries, 0 to 1599999\n",
      "Data columns (total 7 columns):\n",
      " #   Column  Non-Null Count    Dtype         \n",
      "---  ------  --------------    -----         \n",
      " 0   Label   1600000 non-null  int64         \n",
      " 1   ID      1600000 non-null  int64         \n",
      " 2   Date    1600000 non-null  datetime64[ns]\n",
      " 3   Query   1600000 non-null  object        \n",
      " 4   User    1600000 non-null  object        \n",
      " 5   Text    1600000 non-null  object        \n",
      " 6   Count   1600000 non-null  int64         \n",
      "dtypes: datetime64[ns](1), int64(3), object(3)\n",
      "memory usage: 85.4+ MB\n"
     ]
    }
   ],
   "source": [
    "tweets.info()"
   ]
  },
  {
   "cell_type": "code",
   "execution_count": 12,
   "metadata": {},
   "outputs": [],
   "source": [
    "#To string\n",
    "#tweets['Label'].to_string()"
   ]
  },
  {
   "cell_type": "code",
   "execution_count": 13,
   "metadata": {},
   "outputs": [
    {
     "data": {
      "text/plain": [
       "0          115\n",
       "1          111\n",
       "2           89\n",
       "3           47\n",
       "4          111\n",
       "          ... \n",
       "1599995     56\n",
       "1599996     78\n",
       "1599997     57\n",
       "1599998     65\n",
       "1599999     62\n",
       "Name: Text, Length: 1600000, dtype: int64"
      ]
     },
     "execution_count": 13,
     "metadata": {},
     "output_type": "execute_result"
    }
   ],
   "source": [
    "#str. works without type conversion\n",
    "tweets['Text'].str.len()"
   ]
  },
  {
   "cell_type": "code",
   "execution_count": 14,
   "metadata": {
    "scrolled": true
   },
   "outputs": [
    {
     "data": {
      "text/html": [
       "<div>\n",
       "<style scoped>\n",
       "    .dataframe tbody tr th:only-of-type {\n",
       "        vertical-align: middle;\n",
       "    }\n",
       "\n",
       "    .dataframe tbody tr th {\n",
       "        vertical-align: top;\n",
       "    }\n",
       "\n",
       "    .dataframe thead th {\n",
       "        text-align: right;\n",
       "    }\n",
       "</style>\n",
       "<table border=\"1\" class=\"dataframe\">\n",
       "  <thead>\n",
       "    <tr style=\"text-align: right;\">\n",
       "      <th></th>\n",
       "      <th>Label</th>\n",
       "      <th>ID</th>\n",
       "      <th>Date</th>\n",
       "      <th>Query</th>\n",
       "      <th>User</th>\n",
       "      <th>Text</th>\n",
       "      <th>Count</th>\n",
       "    </tr>\n",
       "  </thead>\n",
       "  <tbody>\n",
       "    <tr>\n",
       "      <th>698174</th>\n",
       "      <td>0</td>\n",
       "      <td>2254037948</td>\n",
       "      <td>2009-06-20 09:07:53</td>\n",
       "      <td>NO_QUERY</td>\n",
       "      <td>panthergirl1016</td>\n",
       "      <td>i dont have any followers</td>\n",
       "      <td>1</td>\n",
       "    </tr>\n",
       "    <tr>\n",
       "      <th>475549</th>\n",
       "      <td>0</td>\n",
       "      <td>2177636261</td>\n",
       "      <td>2009-06-15 06:26:57</td>\n",
       "      <td>NO_QUERY</td>\n",
       "      <td>BoertjeHarm</td>\n",
       "      <td>@DenyceLawton Thank you for not reacting...</td>\n",
       "      <td>1</td>\n",
       "    </tr>\n",
       "    <tr>\n",
       "      <th>1517644</th>\n",
       "      <td>4</td>\n",
       "      <td>2175864640</td>\n",
       "      <td>2009-06-15 02:13:14</td>\n",
       "      <td>NO_QUERY</td>\n",
       "      <td>Dixipoledancer</td>\n",
       "      <td>Breakfast time, I want strawberrys  Yuuummmy!</td>\n",
       "      <td>1</td>\n",
       "    </tr>\n",
       "    <tr>\n",
       "      <th>1580159</th>\n",
       "      <td>4</td>\n",
       "      <td>2190033025</td>\n",
       "      <td>2009-06-16 01:34:39</td>\n",
       "      <td>NO_QUERY</td>\n",
       "      <td>belladore</td>\n",
       "      <td>I'm at work</td>\n",
       "      <td>1</td>\n",
       "    </tr>\n",
       "    <tr>\n",
       "      <th>467140</th>\n",
       "      <td>0</td>\n",
       "      <td>2175714345</td>\n",
       "      <td>2009-06-15 01:46:54</td>\n",
       "      <td>NO_QUERY</td>\n",
       "      <td>FelicityBall</td>\n",
       "      <td>is fighting flu  Just want to stay in bed.</td>\n",
       "      <td>1</td>\n",
       "    </tr>\n",
       "  </tbody>\n",
       "</table>\n",
       "</div>"
      ],
      "text/plain": [
       "         Label          ID                Date     Query             User  \\\n",
       "698174       0  2254037948 2009-06-20 09:07:53  NO_QUERY  panthergirl1016   \n",
       "475549       0  2177636261 2009-06-15 06:26:57  NO_QUERY      BoertjeHarm   \n",
       "1517644      4  2175864640 2009-06-15 02:13:14  NO_QUERY   Dixipoledancer   \n",
       "1580159      4  2190033025 2009-06-16 01:34:39  NO_QUERY        belladore   \n",
       "467140       0  2175714345 2009-06-15 01:46:54  NO_QUERY     FelicityBall   \n",
       "\n",
       "                                                   Text  Count  \n",
       "698174                       i dont have any followers       1  \n",
       "475549   @DenyceLawton Thank you for not reacting...         1  \n",
       "1517644   Breakfast time, I want strawberrys  Yuuummmy!      1  \n",
       "1580159                                    I'm at work       1  \n",
       "467140       is fighting flu  Just want to stay in bed.      1  "
      ]
     },
     "execution_count": 14,
     "metadata": {},
     "output_type": "execute_result"
    }
   ],
   "source": [
    "tweetsample=tweets.sample(n=50,axis=0)\n",
    "tweetsample.head()"
   ]
  },
  {
   "cell_type": "code",
   "execution_count": 32,
   "metadata": {
    "scrolled": true
   },
   "outputs": [
    {
     "data": {
      "text/plain": [
       "count                 1600000\n",
       "unique                 774363\n",
       "top       2009-06-15 12:53:14\n",
       "freq                       20\n",
       "first     2009-04-06 22:19:45\n",
       "last      2009-06-25 10:28:31\n",
       "Name: Date, dtype: object"
      ]
     },
     "execution_count": 32,
     "metadata": {},
     "output_type": "execute_result"
    }
   ],
   "source": [
    "tweets['Date'].describe()"
   ]
  },
  {
   "cell_type": "code",
   "execution_count": 16,
   "metadata": {},
   "outputs": [
    {
     "data": {
      "text/html": [
       "<div>\n",
       "<style scoped>\n",
       "    .dataframe tbody tr th:only-of-type {\n",
       "        vertical-align: middle;\n",
       "    }\n",
       "\n",
       "    .dataframe tbody tr th {\n",
       "        vertical-align: top;\n",
       "    }\n",
       "\n",
       "    .dataframe thead th {\n",
       "        text-align: right;\n",
       "    }\n",
       "</style>\n",
       "<table border=\"1\" class=\"dataframe\">\n",
       "  <thead>\n",
       "    <tr style=\"text-align: right;\">\n",
       "      <th></th>\n",
       "      <th>Label</th>\n",
       "      <th>Count</th>\n",
       "    </tr>\n",
       "  </thead>\n",
       "  <tbody>\n",
       "    <tr>\n",
       "      <th>0</th>\n",
       "      <td>0</td>\n",
       "      <td>800000</td>\n",
       "    </tr>\n",
       "    <tr>\n",
       "      <th>1</th>\n",
       "      <td>4</td>\n",
       "      <td>800000</td>\n",
       "    </tr>\n",
       "    <tr>\n",
       "      <th>2</th>\n",
       "      <td>All</td>\n",
       "      <td>1600000</td>\n",
       "    </tr>\n",
       "  </tbody>\n",
       "</table>\n",
       "</div>"
      ],
      "text/plain": [
       "  Label    Count\n",
       "0     0   800000\n",
       "1     4   800000\n",
       "2   All  1600000"
      ]
     },
     "execution_count": 16,
     "metadata": {},
     "output_type": "execute_result"
    }
   ],
   "source": [
    "#Pivot by sentiment\n",
    "table=pd.pivot_table(tweets,values='Count',index='Label',aggfunc=np.sum,margins=True)\n",
    "rec=pd.DataFrame(table.to_records())\n",
    "rec"
   ]
  },
  {
   "cell_type": "code",
   "execution_count": 17,
   "metadata": {
    "scrolled": false
   },
   "outputs": [
    {
     "data": {
      "image/png": "[encoded data removed]",
      "text/plain": [
       "<Figure size 360x360 with 1 Axes>"
      ]
     },
     "metadata": {},
     "output_type": "display_data"
    }
   ],
   "source": [
    "#Number of tweets for each level of sentiment\n",
    "#fig=px.pie(tweetsample,values='Count',names='Label')\n",
    "#fig.update_layout(title_text=\"Number of Tweets by Sentiment\", title={'x':0.5,'yanchor':'top'},legend_title_text='Sentiment')\n",
    "#fig.update_traces(textinfo='percent + value')\n",
    "#fig.show()\n",
    "#SubTotal=tweetsample.groupby(['Label']).agg({'Count':'sum'})\n",
    "\n",
    "SentCount=rec.loc[0:1,'Count']\n",
    "labels='Negative','Positive'\n",
    "explode=(0, 0.1)\n",
    "\n",
    "def func(pct, allvals):\n",
    "    absolute = int(pct/100.*np.sum(allvals))\n",
    "    return \"{:.1f}%\\n({:d})\".format(pct, absolute)\n",
    "\n",
    "fig, ax=plt.subplots(figsize=(5, 5))\n",
    "wedges=ax.pie(SentCount,explode=explode,colors=['royalblue','mediumseagreen'], autopct=lambda pct: func(pct, SentCount), shadow=True,startangle=80,textprops=dict(color=\"w\"))\n",
    "blue_patch = mpatches.Patch(color='royalblue', label='Negative')\n",
    "green_patch=mpatches.Patch(color='mediumseagreen',label='Positive')\n",
    "ax.legend(handles=[blue_patch,green_patch], title=\"Sentiment\", loc=\"center left\", bbox_to_anchor=(1,0,0.5,1))\n",
    "ax.axis('equal')\n",
    "ax.set_title(\"Number of Tweets by Sentiment\",color='darkblue')\n",
    "plt.show()"
   ]
  },
  {
   "cell_type": "code",
   "execution_count": 18,
   "metadata": {},
   "outputs": [
    {
     "data": {
      "text/html": [
       "<div>\n",
       "<style scoped>\n",
       "    .dataframe tbody tr th:only-of-type {\n",
       "        vertical-align: middle;\n",
       "    }\n",
       "\n",
       "    .dataframe tbody tr th {\n",
       "        vertical-align: top;\n",
       "    }\n",
       "\n",
       "    .dataframe thead th {\n",
       "        text-align: right;\n",
       "    }\n",
       "</style>\n",
       "<table border=\"1\" class=\"dataframe\">\n",
       "  <thead>\n",
       "    <tr style=\"text-align: right;\">\n",
       "      <th></th>\n",
       "      <th>Label</th>\n",
       "      <th>User</th>\n",
       "      <th>Count</th>\n",
       "    </tr>\n",
       "  </thead>\n",
       "  <tbody>\n",
       "    <tr>\n",
       "      <th>366625</th>\n",
       "      <td>4</td>\n",
       "      <td>what_bugs_u</td>\n",
       "      <td>246</td>\n",
       "    </tr>\n",
       "    <tr>\n",
       "      <th>31022</th>\n",
       "      <td>4</td>\n",
       "      <td>DarkPiano</td>\n",
       "      <td>231</td>\n",
       "    </tr>\n",
       "    <tr>\n",
       "      <th>132073</th>\n",
       "      <td>4</td>\n",
       "      <td>VioletsCRUK</td>\n",
       "      <td>218</td>\n",
       "    </tr>\n",
       "    <tr>\n",
       "      <th>358974</th>\n",
       "      <td>4</td>\n",
       "      <td>tsarnick</td>\n",
       "      <td>212</td>\n",
       "    </tr>\n",
       "    <tr>\n",
       "      <th>254540</th>\n",
       "      <td>4</td>\n",
       "      <td>keza34</td>\n",
       "      <td>211</td>\n",
       "    </tr>\n",
       "  </tbody>\n",
       "</table>\n",
       "</div>"
      ],
      "text/plain": [
       "        Label         User  Count\n",
       "366625      4  what_bugs_u    246\n",
       "31022       4    DarkPiano    231\n",
       "132073      4  VioletsCRUK    218\n",
       "358974      4     tsarnick    212\n",
       "254540      4       keza34    211"
      ]
     },
     "execution_count": 18,
     "metadata": {},
     "output_type": "execute_result"
    }
   ],
   "source": [
    "#Top 5 users tweeting for each sentiment - Pivot\n",
    "table5top=pd.pivot_table(tweets,index=[\"Label\", \"User\"],values=[\"Count\"],aggfunc=np.sum)\n",
    "\n",
    "table5topNeg=table5top.query('Label==[\"0\"]')\n",
    "table5topPos=table5top.query('Label==[\"4\"]')\n",
    "\n",
    "rec5topNeg=pd.DataFrame(table5topNeg.to_records()).sort_values(['Count'],ascending=False).head(5)\n",
    "rec5topPos=pd.DataFrame(table5topPos.to_records()).sort_values(['Count'],ascending=False).head(5)\n",
    "#rec5top=rec5topNeg.append(rec5topPos)\n",
    "rec5topPos"
   ]
  },
  {
   "cell_type": "code",
   "execution_count": 38,
   "metadata": {
    "scrolled": true
   },
   "outputs": [
    {
     "data": {
      "image/png": "[encoded data removed]",
      "text/plain": [
       "<Figure size 1440x504 with 2 Axes>"
      ]
     },
     "metadata": {
      "needs_background": "light"
     },
     "output_type": "display_data"
    }
   ],
   "source": [
    "#Top 5 users tweeting for each sentiment - chart\n",
    "fig, axs = plt.subplots(1, 2, figsize=(20, 7),sharey=True)\n",
    "\n",
    "axs[0].bar(rec5topPos['User'], rec5topPos['Count'],color='gold')\n",
    "axs[0].set_ylabel('Count',fontsize=16, color='darkblue')\n",
    "axs[0].set_xlabel('User',fontsize=16, color='darkblue')\n",
    "axs[0].set_title('Top 5 Positive Tweeting Users',fontsize=18, color='darkblue')\n",
    "\n",
    "axs[1].bar(rec5topNeg['User'], rec5topNeg['Count'], color='dimgrey')\n",
    "axs[1].set_xlabel('User',fontsize=16, color='darkblue')\n",
    "axs[1].set_title('Top 5 Negative Tweeting Users',fontsize=18, color='darkblue')\n",
    "\n",
    "plt.rc('xtick',labelsize=12)\n",
    "plt.rc('ytick',labelsize=12)"
   ]
  },
  {
   "cell_type": "code",
   "execution_count": 20,
   "metadata": {
    "scrolled": true
   },
   "outputs": [
    {
     "data": {
      "text/plain": [
       "46.6"
      ]
     },
     "execution_count": 20,
     "metadata": {},
     "output_type": "execute_result"
    }
   ],
   "source": [
    "#Average length of the top 5 tweets for each level of sentiment - Pivot\n",
    "table5toptw=pd.pivot_table(tweets,index=[\"Label\", \"Text\"],values=[\"Count\"],aggfunc=np.sum)\n",
    "\n",
    "table5toptwNeg=table5toptw.query('Label==[\"0\"]')\n",
    "table5toptwPos=table5toptw.query('Label==[\"4\"]')\n",
    "\n",
    "rec5toptwNeg=pd.DataFrame(table5toptwNeg.to_records()).sort_values(['Count'],ascending=False).head(5)\n",
    "rec5toptwPos=pd.DataFrame(table5toptwPos.to_records()).sort_values(['Count'],ascending=False).head(5)\n",
    "Avrg_Tweet_LengthNeg=rec5toptwNeg['Text'].str.len().mean()\n",
    "Avrg_Tweet_LengthPos=rec5toptwPos['Text'].str.len().mean()\n",
    "Avrg_Tweet_LengthPos"
   ]
  },
  {
   "cell_type": "code",
   "execution_count": 21,
   "metadata": {},
   "outputs": [
    {
     "data": {
      "image/png": "[encoded data removed]",
      "text/plain": [
       "<Figure size 432x288 with 1 Axes>"
      ]
     },
     "metadata": {
      "needs_background": "light"
     },
     "output_type": "display_data"
    }
   ],
   "source": [
    "#Average length of the top 5 tweets for each level of sentiment - chart\n",
    "avrg_length=[Avrg_Tweet_LengthPos,Avrg_Tweet_LengthNeg]\n",
    "fig, ax=plt.subplots()\n",
    "chart1=ax.bar(['Positive','Negative'],avrg_length, width=0.6, color=['mediumvioletred','darkcyan'])\n",
    "fig.suptitle('Average Length of Top 5 Tweets by Sentiment',fontsize=14, color='darkblue')\n",
    "ax.set_ylabel('Number of Characters',fontsize=11, color='darkblue')\n",
    "\n",
    "def autolabel(rects):\n",
    "    #Attach a text label above each bar in *rects*, displaying its height.\"\"\"\n",
    "    for rect in rects:\n",
    "        height = rect.get_height()\n",
    "        ax.annotate('{}'.format(height),\n",
    "                    xy=(rect.get_x()+0.3, height-4),\n",
    "                    xytext=(0, 3),  # 3 points vertical offset\n",
    "                    textcoords=\"offset points\",\n",
    "                    ha='center', va='bottom',fontsize=10, color=\"white\", fontweight=\"bold\")\n",
    "autolabel(chart1)"
   ]
  },
  {
   "cell_type": "code",
   "execution_count": 22,
   "metadata": {},
   "outputs": [
    {
     "data": {
      "text/html": [
       "<div>\n",
       "<style scoped>\n",
       "    .dataframe tbody tr th:only-of-type {\n",
       "        vertical-align: middle;\n",
       "    }\n",
       "\n",
       "    .dataframe tbody tr th {\n",
       "        vertical-align: top;\n",
       "    }\n",
       "\n",
       "    .dataframe thead th {\n",
       "        text-align: right;\n",
       "    }\n",
       "</style>\n",
       "<table border=\"1\" class=\"dataframe\">\n",
       "  <thead>\n",
       "    <tr style=\"text-align: right;\">\n",
       "      <th></th>\n",
       "      <th>Label</th>\n",
       "      <th>ID</th>\n",
       "      <th>Date</th>\n",
       "      <th>Query</th>\n",
       "      <th>User</th>\n",
       "      <th>Text</th>\n",
       "      <th>Count</th>\n",
       "    </tr>\n",
       "  </thead>\n",
       "  <tbody>\n",
       "    <tr>\n",
       "      <th>0</th>\n",
       "      <td>0</td>\n",
       "      <td>1467810369</td>\n",
       "      <td>2009-04-06 22:19:45</td>\n",
       "      <td>NO_QUERY</td>\n",
       "      <td>_TheSpecialOne_</td>\n",
       "      <td>@switchfoot http://twitpic.com/2y1zl - Awww, t...</td>\n",
       "      <td>1</td>\n",
       "    </tr>\n",
       "    <tr>\n",
       "      <th>1</th>\n",
       "      <td>0</td>\n",
       "      <td>1467810672</td>\n",
       "      <td>2009-04-06 22:19:49</td>\n",
       "      <td>NO_QUERY</td>\n",
       "      <td>scotthamilton</td>\n",
       "      <td>is upset that he can't update his Facebook by ...</td>\n",
       "      <td>1</td>\n",
       "    </tr>\n",
       "    <tr>\n",
       "      <th>2</th>\n",
       "      <td>0</td>\n",
       "      <td>1467810917</td>\n",
       "      <td>2009-04-06 22:19:53</td>\n",
       "      <td>NO_QUERY</td>\n",
       "      <td>mattycus</td>\n",
       "      <td>@Kenichan I dived many times for the ball. Man...</td>\n",
       "      <td>1</td>\n",
       "    </tr>\n",
       "    <tr>\n",
       "      <th>3</th>\n",
       "      <td>0</td>\n",
       "      <td>1467811184</td>\n",
       "      <td>2009-04-06 22:19:57</td>\n",
       "      <td>NO_QUERY</td>\n",
       "      <td>ElleCTF</td>\n",
       "      <td>my whole body feels itchy and like its on fire</td>\n",
       "      <td>1</td>\n",
       "    </tr>\n",
       "    <tr>\n",
       "      <th>4</th>\n",
       "      <td>0</td>\n",
       "      <td>1467811193</td>\n",
       "      <td>2009-04-06 22:19:57</td>\n",
       "      <td>NO_QUERY</td>\n",
       "      <td>Karoli</td>\n",
       "      <td>@nationwideclass no, it's not behaving at all....</td>\n",
       "      <td>1</td>\n",
       "    </tr>\n",
       "  </tbody>\n",
       "</table>\n",
       "</div>"
      ],
      "text/plain": [
       "   Label          ID                Date     Query             User  \\\n",
       "0      0  1467810369 2009-04-06 22:19:45  NO_QUERY  _TheSpecialOne_   \n",
       "1      0  1467810672 2009-04-06 22:19:49  NO_QUERY    scotthamilton   \n",
       "2      0  1467810917 2009-04-06 22:19:53  NO_QUERY         mattycus   \n",
       "3      0  1467811184 2009-04-06 22:19:57  NO_QUERY          ElleCTF   \n",
       "4      0  1467811193 2009-04-06 22:19:57  NO_QUERY           Karoli   \n",
       "\n",
       "                                                Text  Count  \n",
       "0  @switchfoot http://twitpic.com/2y1zl - Awww, t...      1  \n",
       "1  is upset that he can't update his Facebook by ...      1  \n",
       "2  @Kenichan I dived many times for the ball. Man...      1  \n",
       "3    my whole body feels itchy and like its on fire       1  \n",
       "4  @nationwideclass no, it's not behaving at all....      1  "
      ]
     },
     "execution_count": 22,
     "metadata": {},
     "output_type": "execute_result"
    }
   ],
   "source": [
    "#Timeframe for each level of sentiment - Subset\n",
    "tweetTimePos=tweets[tweets['Label']==4]\n",
    "tweetTimeNeg=tweets[tweets['Label']==0]\n",
    "tweetTimeNeg.head()"
   ]
  },
  {
   "cell_type": "code",
   "execution_count": 36,
   "metadata": {
    "scrolled": false
   },
   "outputs": [
    {
     "data": {
      "image/png": "[encoded data removed]",
      "text/plain": [
       "<Figure size 1584x720 with 1 Axes>"
      ]
     },
     "metadata": {
      "needs_background": "light"
     },
     "output_type": "display_data"
    }
   ],
   "source": [
    "#Time frame for each level of sentiment - chart\n",
    "\n",
    "fig, ax=plt.subplots(figsize=(22,10))\n",
    "\n",
    "ax.hist(tweetTimePos['Date'], color=\"darkslategrey\", alpha=0.8)\n",
    "ax.hist(tweetTimeNeg['Date'], color=\"indianred\", alpha=0.8)\n",
    "\n",
    "fig.suptitle('Time Frame by Sentiment',fontsize=22, color='darkblue')\n",
    "ax.set_ylabel('Count',fontsize=20, color='darkblue')\n",
    "\n",
    "def thousands(x, pos):\n",
    "    'The two args are the value and tick position'\n",
    "    return '%1.0fK' % (x * 1e-3)\n",
    "\n",
    "ax.yaxis.set_major_formatter(mtick.FuncFormatter(thousands))\n",
    "\n",
    "plt.rc('xtick',labelsize=15)\n",
    "plt.rc('ytick',labelsize=15)\n",
    "\n",
    "date_form=DateFormatter(\"%b-%d-%y\")\n",
    "ax.xaxis.set_major_formatter(date_form)\n",
    "\n",
    "# Ensure a major tick for each week using (interval=1) \n",
    "ax.xaxis.set_major_locator(mdates.WeekdayLocator(interval=1))\n",
    "\n",
    "grey_patch = mpatches.Patch(color='darkslategrey', label='Positive')\n",
    "red_patch=mpatches.Patch(color='indianred',label='Negative')\n",
    "ax.legend(handles=[grey_patch,red_patch], title=\"Sentiment\",title_fontsize=18, loc=\"center left\", bbox_to_anchor=(0,0.4,2,1),fontsize=18)\n",
    "\n",
    "plt.show()"
   ]
  }
 ],
 "metadata": {
  "kernelspec": {
   "display_name": "Python 3",
   "language": "python",
   "name": "python3"
  },
  "language_info": {
   "codemirror_mode": {
    "name": "ipython",
    "version": 3
   },
   "file_extension": ".py",
   "mimetype": "text/x-python",
   "name": "python",
   "nbconvert_exporter": "python",
   "pygments_lexer": "ipython3",
   "version": "3.8.1"
  }
 },
 "nbformat": 4,
 "nbformat_minor": 4
}
